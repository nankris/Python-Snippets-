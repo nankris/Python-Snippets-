{
 "cells": [
  {
   "cell_type": "code",
   "execution_count": 2,
   "metadata": {},
   "outputs": [
    {
     "name": "stdout",
     "output_type": "stream",
     "text": [
      "[('and', 1), ('cat', 2), ('chased', 1), ('dog', 1), ('the', 3)]\n"
     ]
    }
   ],
   "source": [
    "counts = { \"the\" : 3, \"cat\":2, \"and\":1, \"chased\":1, \"dog\":1}\n",
    "mylist=counts.items()\n",
    "for j in range((len(mylist)*(len(mylist)-1))/2):\n",
    "    k=0\n",
    "    for i in mylist:\n",
    "        if mylist[k+1]<mylist[k]:\n",
    "            a=mylist[k+1]\n",
    "            mylist[k+1]=mylist[k]\n",
    "            mylist[k]=a\n",
    "            #print(mylist)\n",
    "        if k<len(mylist)-2:    \n",
    "            k=k+1    \n",
    "print(mylist)"
   ]
  },
  {
   "cell_type": "code",
   "execution_count": null,
   "metadata": {},
   "outputs": [],
   "source": []
  },
  {
   "cell_type": "code",
   "execution_count": null,
   "metadata": {},
   "outputs": [],
   "source": []
  },
  {
   "cell_type": "code",
   "execution_count": null,
   "metadata": {},
   "outputs": [],
   "source": []
  },
  {
   "cell_type": "code",
   "execution_count": null,
   "metadata": {},
   "outputs": [],
   "source": []
  },
  {
   "cell_type": "code",
   "execution_count": null,
   "metadata": {},
   "outputs": [],
   "source": []
  },
  {
   "cell_type": "code",
   "execution_count": null,
   "metadata": {},
   "outputs": [],
   "source": []
  },
  {
   "cell_type": "code",
   "execution_count": null,
   "metadata": {},
   "outputs": [],
   "source": []
  }
 ],
 "metadata": {
  "kernelspec": {
   "display_name": "python3.5",
   "language": "python",
   "name": "python3.5"
  },
  "language_info": {
   "codemirror_mode": {
    "name": "ipython",
    "version": 2
   },
   "file_extension": ".py",
   "mimetype": "text/x-python",
   "name": "python",
   "nbconvert_exporter": "python",
   "pygments_lexer": "ipython2",
   "version": "2.7.17"
  }
 },
 "nbformat": 4,
 "nbformat_minor": 2
}
