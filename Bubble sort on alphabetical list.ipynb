{
 "cells": [
  {
   "cell_type": "code",
   "execution_count": 1,
   "metadata": {},
   "outputs": [
    {
     "name": "stdout",
     "output_type": "stream",
     "text": [
      "['armadillo', 'axer', 'cat', 'guppy', 'maze', 'zebra']\n"
     ]
    }
   ],
   "source": [
    "mylist = [\"armadillo\", \"zebra\", \"guppy\", \"cat\",\"maze\",\"axer\"]\n",
    "#bubble sort maximum iterations is n(n-1)/2\n",
    "for j in range((len(mylist)*(len(mylist)-1))/2):\n",
    "    k=0\n",
    "    for i in mylist:\n",
    "        if mylist[k+1]<mylist[k]:\n",
    "            a=mylist[k+1]\n",
    "            mylist[k+1]=mylist[k]\n",
    "            mylist[k]=a\n",
    "            #print(mylist)\n",
    "        if k<len(mylist)-2:    \n",
    "            k=k+1    \n",
    "print(mylist)\n",
    "#mylist[0]<mylist[1]"
   ]
  }
 ],
 "metadata": {
  "kernelspec": {
   "display_name": "python3.5",
   "language": "python",
   "name": "python3.5"
  },
  "language_info": {
   "codemirror_mode": {
    "name": "ipython",
    "version": 2
   },
   "file_extension": ".py",
   "mimetype": "text/x-python",
   "name": "python",
   "nbconvert_exporter": "python",
   "pygments_lexer": "ipython2",
   "version": "2.7.17"
  }
 },
 "nbformat": 4,
 "nbformat_minor": 2
}
