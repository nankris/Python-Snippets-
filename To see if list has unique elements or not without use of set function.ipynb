{
 "cells": [
  {
   "cell_type": "code",
   "execution_count": 1,
   "metadata": {},
   "outputs": [
    {
     "name": "stdout",
     "output_type": "stream",
     "text": [
      "[1, 2, 3, 4]\n",
      "4\n",
      "list has duplicates\n"
     ]
    }
   ],
   "source": [
    "lst=[1,2,3,2,4]\n",
    "len1=len(lst)\n",
    "#newlst=list() #this is another way of creating\n",
    "newlst=[]\n",
    "count=0\n",
    "for i in lst:\n",
    "    if i in newlst:\n",
    "        count+=1\n",
    "    else:\n",
    "        newlst.append(i)\n",
    "print(newlst)\n",
    "print(len(newlst))\n",
    "if len1==len(newlst):\n",
    "    print(\"list has no duplicates\")\n",
    "else:\n",
    "    print(\"list has duplicates\")"
   ]
  }
 ],
 "metadata": {
  "kernelspec": {
   "display_name": "Python 3",
   "language": "python",
   "name": "python3"
  },
  "language_info": {
   "codemirror_mode": {
    "name": "ipython",
    "version": 3
   },
   "file_extension": ".py",
   "mimetype": "text/x-python",
   "name": "python",
   "nbconvert_exporter": "python",
   "pygments_lexer": "ipython3",
   "version": "3.6.4"
  }
 },
 "nbformat": 4,
 "nbformat_minor": 2
}
